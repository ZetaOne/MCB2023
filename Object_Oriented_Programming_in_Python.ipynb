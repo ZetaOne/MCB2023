{
  "nbformat": 4,
  "nbformat_minor": 0,
  "metadata": {
    "colab": {
      "provenance": []
    },
    "kernelspec": {
      "name": "python3",
      "display_name": "Python 3"
    },
    "language_info": {
      "name": "python"
    }
  },
  "cells": [
    {
      "cell_type": "code",
      "execution_count": 5,
      "metadata": {
        "id": "SQjaHVm3cjCQ"
      },
      "outputs": [],
      "source": [
        "#Object Oriented Programming\n",
        "\n",
        "#Let us learn this by an example that makes sense\n",
        "\n",
        "import numpy as np"
      ]
    },
    {
      "cell_type": "markdown",
      "source": [
        "Create a Class for each member of IISER Pune"
      ],
      "metadata": {
        "id": "fLDj7AY1c1k-"
      }
    },
    {
      "cell_type": "code",
      "source": [
        "class IISERPune :\n",
        "  def __init__(self,first_name,last_name,year,designation,pay) :\n",
        "    self.first_name = first_name\n",
        "    self.last_name = last_name\n",
        "    self.year = year\n",
        "    self.designation = designation\n",
        "    self.pay = pay\n",
        "\n",
        "stud1 = IISERPune(\"Johnny\",\"Depp\",2023,\"student\",0)\n",
        "stud2 = IISERPune(\"Amber\",\"Heard\",2023,\"student\",0)\n",
        "\n",
        "\n",
        "#Class creates unique instances of the objects you intend to use\n",
        "print(stud1)\n",
        "print(stud2)"
      ],
      "metadata": {
        "colab": {
          "base_uri": "https://localhost:8080/"
        },
        "id": "UXi5gqIqc0KP",
        "outputId": "f96f2616-31fb-4568-8438-3c11adf302bc"
      },
      "execution_count": 6,
      "outputs": [
        {
          "output_type": "stream",
          "name": "stdout",
          "text": [
            "<__main__.IISERPune object at 0x7f385e840790>\n",
            "<__main__.IISERPune object at 0x7f385e840160>\n"
          ]
        }
      ]
    },
    {
      "cell_type": "code",
      "source": [
        "print(stud1.first_name)\n",
        "print(stud2.designation)"
      ],
      "metadata": {
        "colab": {
          "base_uri": "https://localhost:8080/"
        },
        "id": "6V45KEcTep5M",
        "outputId": "966547db-7c3f-418e-eaad-e6928257adb6"
      },
      "execution_count": 7,
      "outputs": [
        {
          "output_type": "stream",
          "name": "stdout",
          "text": [
            "Johnny\n",
            "student\n"
          ]
        }
      ]
    },
    {
      "cell_type": "code",
      "source": [
        "print(\"name of the student is\" + \" \"+ str(stud1.first_name) + \" \"+ str( stud1.last_name))\n",
        "\n",
        "print(\"name of the student is\" + \" \"+ str(stud2.first_name) + \" \"+ str( stud2.last_name))"
      ],
      "metadata": {
        "colab": {
          "base_uri": "https://localhost:8080/"
        },
        "id": "kAC2tYbjfY68",
        "outputId": "0847e74b-7adf-4b03-9987-af1f33a430b9"
      },
      "execution_count": 8,
      "outputs": [
        {
          "output_type": "stream",
          "name": "stdout",
          "text": [
            "name of the student is Johnny Depp\n",
            "name of the student is Amber Heard\n"
          ]
        }
      ]
    },
    {
      "cell_type": "markdown",
      "source": [
        "#We need our class object to perform better"
      ],
      "metadata": {
        "id": "nYBGxLW2gla2"
      }
    },
    {
      "cell_type": "code",
      "source": [
        "class IISERPune :\n",
        "  def __init__(self,first_name,last_name,year,designation,pay) :\n",
        "    self.first_name = first_name\n",
        "    self.last_name = last_name\n",
        "    self.year = year\n",
        "    self.designation = designation\n",
        "    self.pay = pay\n",
        "\n",
        "  def fullname(self) :\n",
        "    return self.first_name +\" \" + self.last_name\n",
        "\n",
        "stud1 = IISERPune(\"Johnny\",\"Depp\",2023,\"student\",0)\n",
        "stud2 = IISERPune(\"Amber\",\"Heard\",2023,\"student\",0)\n",
        "\n",
        "print(stud1.fullname())\n",
        "print(stud2.fullname())"
      ],
      "metadata": {
        "colab": {
          "base_uri": "https://localhost:8080/"
        },
        "id": "4uAin55EfJQD",
        "outputId": "e7116671-9c4f-4c79-9dff-a7c7d981b715"
      },
      "execution_count": 9,
      "outputs": [
        {
          "output_type": "stream",
          "name": "stdout",
          "text": [
            "Johnny Depp\n",
            "Amber Heard\n"
          ]
        }
      ]
    },
    {
      "cell_type": "markdown",
      "source": [
        "I need more"
      ],
      "metadata": {
        "id": "_sdVBQvVgoa5"
      }
    },
    {
      "cell_type": "code",
      "source": [
        "class IISERPune :\n",
        "  def __init__(self,first_name,last_name,year,designation,pay) :\n",
        "    self.first_name = first_name\n",
        "    self.last_name = last_name\n",
        "    self.year = year\n",
        "    self.designation = designation\n",
        "    self.pay = pay\n",
        "\n",
        "  def fullname(self) :\n",
        "    return self.first_name +\" \" + self.last_name\n",
        "\n",
        "  def email(self) :\n",
        "    return self.first_name + self.last_name + \"@\" + self.designation + \".\" + \"iiserpune.ac.in\"\n",
        "\n",
        "stud1 = IISERPune(\"Johnny\",\"Depp\",2023,\"students\",0)\n",
        "stud2 = IISERPune(\"Amber\",\"Heard\",2023,\"students\",0)\n",
        "\n",
        "print(stud1.email())\n",
        "print(stud2.email())"
      ],
      "metadata": {
        "colab": {
          "base_uri": "https://localhost:8080/"
        },
        "id": "_POAttCHgfxI",
        "outputId": "c13f0d27-f9a4-4527-d5a7-b02d34d78870"
      },
      "execution_count": 10,
      "outputs": [
        {
          "output_type": "stream",
          "name": "stdout",
          "text": [
            "JohnnyDepp@students.iiserpune.ac.in\n",
            "AmberHeard@students.iiserpune.ac.in\n"
          ]
        }
      ]
    },
    {
      "cell_type": "markdown",
      "source": [
        "Suppose we need to add the last two integer of year at the email also?\n",
        "Try it?"
      ],
      "metadata": {
        "id": "2k467wPshwmY"
      }
    },
    {
      "cell_type": "code",
      "source": [
        "class IISERPune :\n",
        "  def __init__(self,first_name,last_name,year,designation,pay) :\n",
        "    self.first_name = first_name\n",
        "    self.last_name = last_name\n",
        "    self.year = year\n",
        "    self.designation = designation\n",
        "    self.pay = pay\n",
        "\n",
        "  def fullname(self) :\n",
        "    return self.first_name +\" \" + self.last_name\n",
        "\n",
        "  def email(self) :\n",
        "    return self.first_name + self.last_name + str(self.year)[2:4] + \"@\" + self.designation + \".\" + \"iiserpune.ac.in\"\n",
        "\n",
        "stud1 = IISERPune(\"Johnny\",\"Depp\",2023,\"students\",0)\n",
        "stud2 = IISERPune(\"Amber\",\"Heard\",2024,\"students\",0)\n",
        "\n",
        "print(stud1.email())\n",
        "print(stud2.email())"
      ],
      "metadata": {
        "colab": {
          "base_uri": "https://localhost:8080/"
        },
        "id": "A684pklRh9nu",
        "outputId": "79a071e4-fb26-428f-97b6-1bc3f6a29cc5"
      },
      "execution_count": 11,
      "outputs": [
        {
          "output_type": "stream",
          "name": "stdout",
          "text": [
            "JohnnyDepp23@students.iiserpune.ac.in\n",
            "AmberHeard24@students.iiserpune.ac.in\n"
          ]
        }
      ]
    },
    {
      "cell_type": "markdown",
      "source": [
        "More"
      ],
      "metadata": {
        "id": "uRXp7xKQiz3n"
      }
    },
    {
      "cell_type": "code",
      "source": [
        "class IISERPune :\n",
        "  def __init__(self,first_name,last_name,year,designation,pay) :\n",
        "    self.first_name = first_name\n",
        "    self.last_name = last_name\n",
        "    self.year = year\n",
        "    self.designation = designation\n",
        "    self.pay = pay\n",
        "\n",
        "  def fullname(self) :\n",
        "    return self.first_name +\" \" + self.last_name\n",
        "\n",
        "  def email(self) :\n",
        "    return self.first_name + self.last_name + str(self.year)[2:4] + \"@\" + self.designation + \".\" + \"iiserpune.ac.in\"\n",
        "  def roll_number(self) :\n",
        "    return str(self.year) + \"31\" + str(np.random.randint(10, 99))\n",
        "\n",
        "\n",
        "\n",
        "\n",
        "stud1 = IISERPune(\"Johnny\",\"Depp\",2023,\"students\",0)\n",
        "stud2 = IISERPune(\"Amber\",\"Heard\",2024,\"students\",0)\n",
        "\n",
        "print(stud1.roll_number())\n",
        "print(stud2.roll_number())"
      ],
      "metadata": {
        "colab": {
          "base_uri": "https://localhost:8080/"
        },
        "id": "VMlAxPA3iwZA",
        "outputId": "827b37a9-f818-4c5d-b3d7-4cbbd27de6e3"
      },
      "execution_count": 12,
      "outputs": [
        {
          "output_type": "stream",
          "name": "stdout",
          "text": [
            "20233189\n",
            "20243153\n"
          ]
        }
      ]
    },
    {
      "cell_type": "code",
      "source": [
        "class IISERPune :\n",
        "  def __init__(self,first_name,last_name,year,designation,pay, Final_Roll = None) :\n",
        "    self.first_name = first_name\n",
        "    self.last_name = last_name\n",
        "    self.year = year\n",
        "    self.designation = designation\n",
        "    self.pay = pay\n",
        "\n",
        "  def fullname(self) :\n",
        "    return self.first_name +\" \" + self.last_name\n",
        "\n",
        "  def email(self) :\n",
        "    return self.first_name + self.last_name + str(self.year)[2:4] + \"@\" + self.designation + \".\" + \"iiserpune.ac.in\"\n",
        "  def roll_number(self) :\n",
        "    return str(self.year) + \"31\" + str(np.random.randint(10, 99))\n",
        "    \n",
        "\n",
        "\n",
        "\n",
        "\n",
        "\n",
        "stud1 = IISERPune(\"Johnny\",\"Depp\",2023,\"students\",0)\n",
        "stud2 = IISERPune(\"Amber\",\"Heard\",2024,\"students\",0)\n",
        "\n",
        "stud1.Final_Roll = stud1.roll_number()"
      ],
      "metadata": {
        "id": "piYpw_KxkXxh"
      },
      "execution_count": 13,
      "outputs": []
    },
    {
      "cell_type": "code",
      "source": [
        "stud1.Final_Roll"
      ],
      "metadata": {
        "colab": {
          "base_uri": "https://localhost:8080/",
          "height": 42
        },
        "id": "jcThlNK9nsW8",
        "outputId": "8577ffda-8d25-4f29-a002-381ec901dc8a"
      },
      "execution_count": 14,
      "outputs": [
        {
          "output_type": "execute_result",
          "data": {
            "text/plain": [
              "'20233178'"
            ],
            "application/vnd.google.colaboratory.intrinsic+json": {
              "type": "string"
            }
          },
          "metadata": {},
          "execution_count": 14
        }
      ]
    },
    {
      "cell_type": "markdown",
      "source": [
        "Classes are useful in cases where all the instances need to be modified in similar fashion"
      ],
      "metadata": {
        "id": "qsWnJVar5MPY"
      }
    },
    {
      "cell_type": "code",
      "source": [
        "class IISERPune :\n",
        "  def __init__(self,first_name,last_name,year,designation,pay, Final_Roll = None) :\n",
        "    self.first_name = first_name\n",
        "    self.last_name = last_name\n",
        "    self.year = year\n",
        "    self.designation = designation\n",
        "    self.pay = pay\n",
        "    self.balance = 0\n",
        "\n",
        "  def fullname(self) :\n",
        "    return self.first_name +\" \" + self.last_name\n",
        "\n",
        "  def email(self) :\n",
        "    return self.first_name + self.last_name + str(self.year)[2:4] + \"@\" + self.designation + \".\" + \"iiserpune.ac.in\"\n",
        "  def roll_number(self) :\n",
        "    return str(self.year) + \"31\" + str(np.random.randint(10, 99))\n",
        "\n",
        "  def lib_fine(self) :\n",
        "    self.balance = self.balance - 1000    \n",
        "   \n",
        "\n",
        "\n",
        "\n",
        "stud1 = IISERPune(\"Johnny\",\"Depp\",2023,\"students\",0)\n",
        "stud2 = IISERPune(\"Amber\",\"Heard\",2024,\"students\",0)\n",
        "\n",
        "print(stud1.balance)\n",
        "\n",
        "#impose library fine\n",
        "stud1.lib_fine()\n",
        "print(stud1.balance)\n",
        "\n"
      ],
      "metadata": {
        "colab": {
          "base_uri": "https://localhost:8080/"
        },
        "id": "zN_1aQOn5K4q",
        "outputId": "a6b2f5cb-8397-4a34-ed70-6156a6b62b20"
      },
      "execution_count": 15,
      "outputs": [
        {
          "output_type": "stream",
          "name": "stdout",
          "text": [
            "0\n",
            "-1000\n"
          ]
        }
      ]
    },
    {
      "cell_type": "code",
      "source": [
        "class IISERPune :\n",
        "  def __init__(self,first_name,last_name,year,designation,pay, Final_Roll = None) :\n",
        "    self.first_name = first_name\n",
        "    self.last_name = last_name\n",
        "    self.year = year\n",
        "    self.designation = designation\n",
        "    self.pay = pay\n",
        "    self.balance = 0\n",
        "\n",
        "  def fullname(self) :\n",
        "    return self.first_name +\" \" + self.last_name\n",
        "\n",
        "  def email(self) :\n",
        "    return self.first_name + self.last_name + str(self.year)[2:4] + \"@\" + self.designation + \".\" + \"iiserpune.ac.in\"\n",
        "  def roll_number(self) :\n",
        "    return str(self.year) + \"31\" + str(np.random.randint(10, 99))\n",
        "\n",
        "  def lib_fine(self) :\n",
        "    self.balance = self.balance - 1000    \n",
        "\n",
        "  def paid_fees(self) :\n",
        "    self.balance = self.balance + 100000    \n",
        "\n",
        "\n",
        "\n",
        "stud1 = IISERPune(\"Johnny\",\"Depp\",2023,\"students\",0)\n",
        "stud2 = IISERPune(\"Amber\",\"Heard\",2024,\"students\",0)\n",
        "\n",
        "print(stud1.balance)\n",
        "\n",
        "#impose library fine\n",
        "stud1.lib_fine()\n",
        "print(stud1.balance)\n",
        "\n",
        "#fees paid\n",
        "stud1.paid_fees()\n",
        "print(stud1.balance)"
      ],
      "metadata": {
        "colab": {
          "base_uri": "https://localhost:8080/"
        },
        "id": "jIiwpvbKDVAU",
        "outputId": "827a5d0b-ac9c-4b21-aa71-f08f53b23b32"
      },
      "execution_count": 16,
      "outputs": [
        {
          "output_type": "stream",
          "name": "stdout",
          "text": [
            "0\n",
            "-1000\n",
            "99000\n"
          ]
        }
      ]
    },
    {
      "cell_type": "markdown",
      "source": [
        "Accessing the interior of a class"
      ],
      "metadata": {
        "id": "BvWVf0KWJ7xQ"
      }
    },
    {
      "cell_type": "code",
      "source": [
        "stud1.__dict__\n"
      ],
      "metadata": {
        "colab": {
          "base_uri": "https://localhost:8080/"
        },
        "id": "XM4D97nCKCzU",
        "outputId": "574397b6-3e45-4360-a952-1ec44adeaecb"
      },
      "execution_count": 17,
      "outputs": [
        {
          "output_type": "execute_result",
          "data": {
            "text/plain": [
              "{'first_name': 'Johnny',\n",
              " 'last_name': 'Depp',\n",
              " 'year': 2023,\n",
              " 'designation': 'students',\n",
              " 'pay': 0,\n",
              " 'balance': 99000}"
            ]
          },
          "metadata": {},
          "execution_count": 17
        }
      ]
    },
    {
      "cell_type": "markdown",
      "source": [
        "Difference between class and its instances"
      ],
      "metadata": {
        "id": "Bgo28einK8m5"
      }
    },
    {
      "cell_type": "markdown",
      "source": [
        "Imagine we need to also keep counting the number of students/faculty we created"
      ],
      "metadata": {
        "id": "C4OWIK5HLGGp"
      }
    },
    {
      "cell_type": "code",
      "source": [
        "class IISERPune :\n",
        "\n",
        "\n",
        "  num_stud = 0\n",
        "  num_faculty = 0\n",
        "  def __init__(self,first_name,last_name,year,designation,pay, Final_Roll = None) :\n",
        "    self.first_name = first_name\n",
        "    self.last_name = last_name\n",
        "    self.year = year\n",
        "    self.designation = designation\n",
        "    self.pay = pay\n",
        "    self.balance = 0\n",
        "    if (self.designation == \"students\") :\n",
        "      \n",
        "      IISERPune.num_stud = IISERPune.num_stud + 1\n",
        "\n",
        "    if (self.designation == \"faculty\") :\n",
        "      IISERPune.num_faculty = IISERPune.num_faculty + 1\n",
        "\n",
        "  def fullname(self) :\n",
        "    return self.first_name +\" \" + self.last_name\n",
        "\n",
        "  def email(self) :\n",
        "    return self.first_name + self.last_name + str(self.year)[2:4] + \"@\" + self.designation + \".\" + \"iiserpune.ac.in\"\n",
        "  def roll_number(self) :\n",
        "    return str(self.year) + \"31\" + str(np.random.randint(10, 99))\n",
        "\n",
        "  def lib_fine(self) :\n",
        "    self.balance = self.balance - 1000    \n",
        "\n",
        "  def paid_fees(self) :\n",
        "    self.balance = self.balance + 100000    \n",
        "\n",
        "\n",
        "\n",
        "stud1 = IISERPune(\"Johnny\",\"Depp\",2023,\"students\",0)\n",
        "stud2 = IISERPune(\"Amber\",\"Heard\",2024,\"students\",0)\n",
        "\n",
        "\n",
        "print(IISERPune.num_stud, IISERPune.num_faculty)"
      ],
      "metadata": {
        "colab": {
          "base_uri": "https://localhost:8080/"
        },
        "id": "XLpCk7CGK6jy",
        "outputId": "408aeee9-793f-4993-b14d-ec134390a8b7"
      },
      "execution_count": 18,
      "outputs": [
        {
          "output_type": "stream",
          "name": "stdout",
          "text": [
            "2 0\n"
          ]
        }
      ]
    },
    {
      "cell_type": "code",
      "source": [
        "IISERPune.__dict__"
      ],
      "metadata": {
        "colab": {
          "base_uri": "https://localhost:8080/"
        },
        "id": "4FDtWxHWLOdw",
        "outputId": "29abc157-f901-440d-e430-ba39e735ca78"
      },
      "execution_count": 19,
      "outputs": [
        {
          "output_type": "execute_result",
          "data": {
            "text/plain": [
              "mappingproxy({'__module__': '__main__',\n",
              "              'num_stud': 2,\n",
              "              'num_faculty': 0,\n",
              "              '__init__': <function __main__.IISERPune.__init__(self, first_name, last_name, year, designation, pay, Final_Roll=None)>,\n",
              "              'fullname': <function __main__.IISERPune.fullname(self)>,\n",
              "              'email': <function __main__.IISERPune.email(self)>,\n",
              "              'roll_number': <function __main__.IISERPune.roll_number(self)>,\n",
              "              'lib_fine': <function __main__.IISERPune.lib_fine(self)>,\n",
              "              'paid_fees': <function __main__.IISERPune.paid_fees(self)>,\n",
              "              '__dict__': <attribute '__dict__' of 'IISERPune' objects>,\n",
              "              '__weakref__': <attribute '__weakref__' of 'IISERPune' objects>,\n",
              "              '__doc__': None})"
            ]
          },
          "metadata": {},
          "execution_count": 19
        }
      ]
    },
    {
      "cell_type": "markdown",
      "source": [
        "Intro to numerical Integration"
      ],
      "metadata": {
        "id": "i9xb-LgaRW7X"
      }
    },
    {
      "cell_type": "code",
      "source": [
        "#Numerical Integration\n",
        "import numpy as np\n",
        "import matplotlib.pyplot as plt\n",
        "%matplotlib inline\n",
        "\n",
        "def f(x,t): # define the function f(x,t)\n",
        "    return x\n",
        "\n",
        "dt = 0.1 # define timestep\n",
        "\n",
        "t = np.arange(0,10,dt) # define an array for t\n",
        "x = np.zeros(t.shape) # define an array for x\n",
        "\n",
        "x[0]= 1 # set initial condition\n",
        "\n",
        "for i in range(1,t.shape[0]):\n",
        "    x[i] = dt*f(x[i-1],t[i-1])+x[i-1] # Euler Integration Step\n",
        "\n",
        "#plt.plot(t[::5],x[::5],\".\",label=\"Eulers Solution\")\n",
        "# set figure size\n",
        "plt.figure(figsize=(10, 10))\n",
        "# make axis labels, title, and legend text larger\n",
        "plt.rc('xtick', labelsize=14)\n",
        "plt.rc('ytick', labelsize=14)\n",
        "plt.rc('axes', titlesize=14)\n",
        "plt.rc('legend', fontsize=14)\n",
        "plt.plot(t,x,\".\",label=\"Eulers Solution\")\n",
        "plt.plot(t,np.exp(t),label=\"Exact Solution\")\n",
        "plt.xlabel(\"t\")\n",
        "plt.ylabel(\"x\")\n",
        "plt.legend()\n",
        "plt.show()"
      ],
      "metadata": {
        "colab": {
          "base_uri": "https://localhost:8080/",
          "height": 610
        },
        "id": "W2oHrTBVpo9L",
        "outputId": "0e66d66b-d5f0-487b-8b84-b68f75130991"
      },
      "execution_count": 20,
      "outputs": [
        {
          "output_type": "display_data",
          "data": {
            "text/plain": [
              "<Figure size 720x720 with 1 Axes>"
            ],
            "image/png": "[encoded data removed]"
          },
          "metadata": {
            "needs_background": "light"
          }
        }
      ]
    },
    {
      "cell_type": "markdown",
      "source": [
        "h"
      ],
      "metadata": {
        "id": "fHY8ra8vRdM7"
      }
    },
    {
      "cell_type": "code",
      "source": [
        "#modified euler method\n",
        "\n",
        "\n",
        "\n",
        "def f(x,t): # define the function f(x,t)\n",
        "    return x\n",
        "\n",
        "dt = 0.1 # define timestep\n",
        "\n",
        "t = np.arange(0,10,dt) # define an array for t\n",
        "x = np.zeros(t.shape) # define an array for x\n",
        "\n",
        "x[0]= 1 # set initial condition\n",
        "\n",
        "for i in range(1,t.shape[0]):\n",
        "    xp = dt*f(x[i-1],t[i-1])+x[i-1]\n",
        "    s1 = f(xp,t[i-1] + dt)\n",
        "    s2 = f(x[i-1],t[i-1])\n",
        "    x[i] = dt*(s1+s2)/2+x[i-1] # Euler Integration Step\n",
        "\n",
        "#plt.plot(t[::5],x[::5],\".\",label=\"Eulers Solution\")\n",
        "# set figure size\n",
        "plt.figure(figsize=(10, 10))\n",
        "# make axis labels, title, and legend text larger\n",
        "plt.rc('xtick', labelsize=14)\n",
        "plt.rc('ytick', labelsize=14)\n",
        "plt.rc('axes', titlesize=14)\n",
        "plt.rc('legend', fontsize=14)\n",
        "plt.plot(t,x,\".\",label=\"Eulers Modified Solution\")\n",
        "plt.plot(t,np.exp(t),label=\"Exact Solution\")\n",
        "plt.xlabel(\"t\")\n",
        "plt.ylabel(\"x\")\n",
        "plt.legend()\n",
        "plt.show()"
      ],
      "metadata": {
        "colab": {
          "base_uri": "https://localhost:8080/",
          "height": 610
        },
        "id": "PmdX5T1jDu5f",
        "outputId": "349ad281-a51d-4816-cca0-a598a776aacd"
      },
      "execution_count": 21,
      "outputs": [
        {
          "output_type": "display_data",
          "data": {
            "text/plain": [
              "<Figure size 720x720 with 1 Axes>"
            ],
            "image/png": "[encoded data removed]"
          },
          "metadata": {
            "needs_background": "light"
          }
        }
      ]
    },
    {
      "cell_type": "code",
      "source": [
        "#making RK4 integrator from scratch\n",
        "import numpy as np\n",
        "import matplotlib.pyplot as plt\n",
        "\n",
        "\n",
        "# define the function\n",
        "def f(x, y):\n",
        "    return y\n",
        "\n",
        "\n",
        "# define the RK4 integrator\n",
        "def RK4(f, x0, y0, h, n):\n",
        "    x = np.zeros(n)\n",
        "    y = np.zeros(n)\n",
        "    x[0] = x0\n",
        "    y[0] = y0\n",
        "    for i in range(n-1):\n",
        "        k1 = h*f(x[i], y[i])\n",
        "        k2 = h*f(x[i] + h/2, y[i] + k1/2)\n",
        "        k3 = h*f(x[i] + h/2, y[i] + k2/2)\n",
        "        k4 = h*f(x[i] + h, y[i] + k3)\n",
        "        y[i+1] = y[i] + (k1 + 2*k2 + 2*k3 + k4)/6\n",
        "        x[i+1] = x[i] + h\n",
        "    return x, y\n",
        "\n",
        "\n",
        "# define the initial conditions\n",
        "x0 = 0\n",
        "y0 = 1\n",
        "h = 0.1\n",
        "n = 100\n",
        "\n",
        "# call the RK4 integrator\n",
        "x, y = RK4(f, x0, y0, h, n)\n",
        "\n",
        "# set figure size\n",
        "plt.figure(figsize=(10, 10))\n",
        "# make axis labels, title, and legend text larger\n",
        "plt.rc('xtick', labelsize=14)\n",
        "plt.rc('ytick', labelsize=14)\n",
        "plt.rc('axes', titlesize=14)\n",
        "plt.rc('legend', fontsize=14)\n",
        "\n",
        "plt.plot(x, y,\"--\" , label='exact')\n",
        "plt.plot(x, np.exp(x),\".\", label='RK4')\n",
        "plt.legend()\n",
        "plt.show()\n"
      ],
      "metadata": {
        "colab": {
          "base_uri": "https://localhost:8080/",
          "height": 596
        },
        "id": "WFvop7deGvR-",
        "outputId": "e516f334-e2b0-40fa-82c2-c27b07c68d3d"
      },
      "execution_count": 22,
      "outputs": [
        {
          "output_type": "display_data",
          "data": {
            "text/plain": [
              "<Figure size 720x720 with 1 Axes>"
            ],
            "image/png": "[encoded data removed]"
          },
          "metadata": {
            "needs_background": "light"
          }
        }
      ]
    },
    {
      "cell_type": "markdown",
      "source": [
        "Let's Combine both Class and Integrator"
      ],
      "metadata": {
        "id": "G-tR3996iQDi"
      }
    },
    {
      "cell_type": "code",
      "source": [
        "class Integrator :\n",
        "  def __init__(self,fn,initial_value,tstart,tend):\n",
        "    self.fn = fn\n",
        "    self.initial_value = initial_value\n",
        "    self.tstart = tstart\n",
        "    self.tend = tend\n",
        "\n",
        "\n",
        "  def simple_euler(self,dt = 0.25) :\n",
        "\n",
        "    t = np.arange(self.tstart,self.tend,dt) # define an array for t\n",
        "    x = np.zeros(t.shape) # define an array for x\n",
        "\n",
        "    x[0]= self.initial_value # set initial condition\n",
        "\n",
        "    for i in range(1,t.shape[0]):\n",
        "        x[i] = dt*self.fn(x[i-1],t[i-1]) + x[i-1] # Euler Integration Step\n",
        "\n",
        "\n",
        "\n",
        "    return t,x\n",
        "\n",
        "\n",
        "  def modified_euler(self,dt = 0.25) :\n",
        "    \n",
        "\n",
        "    t = np.arange(self.tstart,self.tend,dt) \n",
        "    x = np.zeros(t.shape) \n",
        "\n",
        "    x[0]= self.initial_value\n",
        "\n",
        "    for i in range(1,t.shape[0]):\n",
        "        xp = dt*self.fn(x[i-1],t[i-1])+x[i-1]\n",
        "        s1 = self.fn(xp,t[i-1] + dt)\n",
        "        s2 = self.fn(x[i-1],t[i-1])\n",
        "        x[i] = dt*(s1+s2)/2+x[i-1] # Euler Integration Step\n",
        "\n",
        "\n",
        "    return t,x\n",
        "\n",
        "\n",
        "    \n",
        "\n",
        "\n",
        "\n",
        "\n",
        "\n",
        "\n",
        "\n",
        "    \n",
        "\n",
        "\n"
      ],
      "metadata": {
        "id": "JEr2eqMeiTfu"
      },
      "execution_count": 80,
      "outputs": []
    },
    {
      "cell_type": "code",
      "source": [
        "def f1(x,t) :\n",
        "  return x\n",
        "\n",
        "ob1 = Integrator(f1,1,0,6)\n",
        "\n",
        "\n",
        "\n",
        "\n",
        "\n",
        "\n",
        "#plt.plot(t[::5],x[::5],\".\",label=\"Eulers Solution\")\n",
        "# set figure size\n",
        "plt.figure(figsize=(10, 10))\n",
        "# make axis labels, title, and legend text larger\n",
        "plt.rc('xtick', labelsize=14)\n",
        "plt.rc('ytick', labelsize=14)\n",
        "plt.rc('axes', titlesize=14)\n",
        "plt.rc('legend', fontsize=14)\n",
        "plt.plot(ob1.simple_euler()[0],ob1.simple_euler()[1],\".\",label=\"Eulers Solution\")\n",
        "plt.plot(ob1.modified_euler()[0],ob1.modified_euler()[1],\".\",label=\"Modified Eulers Solution\")\n",
        "\n",
        "plt.plot(ob1.simple_euler()[0],np.exp(ob1.simple_euler()[0]),label=\"Exact Solution\")\n",
        "plt.xlabel(\"t\")\n",
        "plt.ylabel(\"x\")\n",
        "plt.legend()\n",
        "plt.show()\n"
      ],
      "metadata": {
        "colab": {
          "base_uri": "https://localhost:8080/",
          "height": 610
        },
        "id": "pKRrMx1ynT5K",
        "outputId": "4b176afa-e65d-457d-8210-0730529b24b1"
      },
      "execution_count": 81,
      "outputs": [
        {
          "output_type": "display_data",
          "data": {
            "text/plain": [
              "<Figure size 720x720 with 1 Axes>"
            ],
            "image/png": "[encoded data removed]"
          },
          "metadata": {
            "needs_background": "light"
          }
        }
      ]
    }
  ]
}