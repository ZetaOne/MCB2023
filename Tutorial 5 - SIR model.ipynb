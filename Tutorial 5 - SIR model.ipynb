{
 "cells": [
  {
   "cell_type": "markdown",
   "metadata": {},
   "source": [
    "A simple mathematical description of the spread of a disease in a population is the so-called SIR model, which divides the (fixed) population of N individuals into three \"compartments\" which may vary as a function of time, t:\n",
    "\n",
    "S(t) are those susceptible but not yet infected with the disease;\n",
    "I(t) is the number of infectious individuals;\n",
    "R(t) are those individuals who have recovered from the disease and now have immunity to it.\n",
    "The SIR model describes the change in the population of each of these compartments in terms of two parameters, β and γ. β describes the effective contact rate of the disease: an infected individual comes into contact with βN other individuals per unit time (of which the fraction that are susceptible to contracting the disease is S/N). γ is the mean recovery rate: that is, 1/γ is the mean period of time during which an infected individual can pass it on.\n",
    "\n",
    "The differential equations describing this model were first derived by Kermack and McKendrick [Proc. R. Soc. A, 115, 772 (1927)]:"
   ]
  },
  {
   "attachments": {
    "SIR model-diagram.png": {
     "image/png": "[encoded data removed]"
    }
   },
   "cell_type": "markdown",
   "metadata": {},
   "source": [
    "![SIR model-diagram.png](<attachment:SIR model-diagram.png>)"
   ]
  },
  {
   "cell_type": "code",
   "execution_count": null,
   "metadata": {},
   "outputs": [],
   "source": [
    "# $\\begin{align*}\n",
    "# \\frac{\\mathrm{d}S}{\\mathrm{d}t} &= -\\frac{\\beta S I}{N},\\\\\n",
    "# \\frac{\\mathrm{d}I}{\\mathrm{d}t} &= \\frac{\\beta S I}{N} - \\gamma I,\\\\\n",
    "# \\frac{\\mathrm{d}R}{\\mathrm{d}t} &= \\gamma I.\n",
    "# \\end{align*}$\n",
    "\n",
    "#display these latex equations in the notebook\n",
    "from IPython.display import display, Math\n",
    "\n",
    "display(Math(r'\\frac{\\mathrm{d}S}{\\mathrm{d}t} = -\\frac{\\beta S I}{N}'))\n",
    "display(Math(r'\\frac{\\mathrm{d}I}{\\mathrm{d}t} = \\frac{\\beta S I}{N} - \\gamma I'))\n",
    "display(Math(r'\\frac{\\mathrm{d}R}{\\mathrm{d}t} = \\gamma I'))\n",
    "\n"
   ]
  },
  {
   "cell_type": "code",
   "execution_count": null,
   "metadata": {},
   "outputs": [],
   "source": [
    "import numpy as np\n",
    "from scipy.integrate import odeint\n",
    "import matplotlib.pyplot as plt\n",
    "\n",
    "# Total population, N.\n",
    "N = 1000\n",
    "# Initial number of infected and recovered individuals, I0 and R0.\n",
    "I0, R0 = 1, 0\n",
    "# Everyone else, S0, is susceptible to infection initially.\n",
    "S0 = N - I0 - R0\n",
    "# Contact rate, beta, and mean recovery rate, gamma, (in 1/days).\n",
    "beta, gamma = 0.6, 1.0/5 \n",
    "# A grid of time points (in days)\n",
    "t = np.linspace(0, 160, 160)\n",
    "\n",
    "# The SIR model differential equations.\n",
    "def deriv(y, t, N, beta, gamma):\n",
    "    S, I, R = y\n",
    "    dSdt = -beta * S * I / N\n",
    "    dIdt = beta * S * I / N - gamma * I\n",
    "    dRdt = gamma * I\n",
    "    return dSdt, dIdt, dRdt\n",
    "\n",
    "\n"
   ]
  },
  {
   "cell_type": "code",
   "execution_count": null,
   "metadata": {},
   "outputs": [],
   "source": [
    "# Initial conditions vector\n",
    "y0 = S0, I0, R0\n",
    "# Integrate the SIR equations over the time grid, t.\n",
    "ret = odeint(deriv, y0, t, args=(N, beta, gamma))\n",
    "S, I, R = ret.T\n"
   ]
  },
  {
   "cell_type": "code",
   "execution_count": null,
   "metadata": {},
   "outputs": [],
   "source": [
    "# Plot the data on three separate curves for S(t), I(t) and R(t)\n",
    "fig = plt.figure(figsize= (10,7),dpi = 120, facecolor='w')\n",
    "ax = fig.add_subplot(111,facecolor='#dddddd', axisbelow=True)\n",
    "ax.plot(t, S/1000, 'b', alpha=0.5, lw=2, label='Susceptible')\n",
    "ax.plot(t, I/1000, 'r', alpha=0.5, lw=2, label='Infected')\n",
    "ax.plot(t, R/1000, 'g', alpha=0.5, lw=2, label='Recovered with immunity')\n",
    "ax.set_xlabel('Time /days')\n",
    "ax.set_ylabel('Number (1000s)')\n",
    "ax.set_ylim(0,1.2)\n",
    "\n",
    "ax.yaxis.set_tick_params(length=0)\n",
    "ax.xaxis.set_tick_params(length=0)\n",
    "ax.grid(b=True, which='major', c='w', lw=2, ls='-')\n",
    "legend = ax.legend()\n",
    "legend.get_frame().set_alpha(0.5)\n",
    "for spine in ('top', 'right', 'bottom', 'left'):\n",
    "    ax.spines[spine].set_visible(False)\n",
    "plt.show()"
   ]
  },
  {
   "cell_type": "code",
   "execution_count": null,
   "metadata": {},
   "outputs": [],
   "source": [
    "#Slider for beta and gamma\n",
    "from ipywidgets import interact, interactive, fixed, interact_manual\n",
    "import ipywidgets as widgets\n",
    "\n",
    "def plot_SIR(beta, gamma):\n",
    "    ret = odeint(deriv, y0, t, args=(N, beta, gamma))\n",
    "    S, I, R = ret.T\n",
    "    fig = plt.figure(figsize= (10,7),dpi = 120, facecolor='w')\n",
    "    ax = fig.add_subplot(111,facecolor='#dddddd', axisbelow=True)\n",
    "    ax.plot(t, S/1000, 'b', alpha=0.5, lw=2, label='Susceptible')\n",
    "    ax.plot(t, I/1000, 'r', alpha=0.5, lw=2, label='Infected')\n",
    "    ax.plot(t, R/1000, 'g', alpha=0.5, lw=2, label='Recovered with immunity')\n",
    "    ax.set_xlabel('Time /days')\n",
    "    ax.set_ylabel('Number (1000s)')\n",
    "    ax.set_ylim(0,1.2)\n",
    "\n",
    "    ax.yaxis.set_tick_params(length=0)\n",
    "    ax.xaxis.set_tick_params(length=0)\n",
    "    ax.grid(b=True, which='major', c='w', lw=2, ls='-')\n",
    "    legend = ax.legend()\n",
    "    legend.get_frame().set_alpha(0.5)\n",
    "    for spine in ('top', 'right', 'bottom', 'left'):\n",
    "        ax.spines[spine].set_visible(False)\n",
    "    plt.show()\n",
    "\n",
    "interact(plot_SIR, beta = widgets.FloatSlider(value=0.6, min=0.1, max=1.0, step=0.1), gamma = widgets.FloatSlider(value=0.2, min=0.1, max=0.8, step=0.1))\n",
    "\n",
    "#The slider allows you to change the values of beta and gamma and see how the SIR model changes."
   ]
  }
 ],
 "metadata": {
  "kernelspec": {
   "display_name": "Python 3",
   "language": "python",
   "name": "python3"
  },
  "language_info": {
   "codemirror_mode": {
    "name": "ipython",
    "version": 3
   },
   "file_extension": ".py",
   "mimetype": "text/x-python",
   "name": "python",
   "nbconvert_exporter": "python",
   "pygments_lexer": "ipython3",
   "version": "3.10.12"
  }
 },
 "nbformat": 4,
 "nbformat_minor": 2
}
