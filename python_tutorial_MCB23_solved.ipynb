{
  "cells": [
    {
      "cell_type": "markdown",
      "metadata": {
        "id": "m_X-2Nu6DO24"
      },
      "source": [
        "# <img src=\"https://upload.wikimedia.org/wikipedia/commons/thumb/c/c3/Python-logo-notext.svg/1024px-Python-logo-notext.svg.png\" width=\"48\"> Fundamentals of programming in Python"
      ]
    },
    {
      "cell_type": "markdown",
      "metadata": {
        "id": "aBf0uEaFDO27"
      },
      "source": [
        "* Python was designed and is maintained by Guido Van Rossum\n",
        "* It is named after Monty Python's Flying Circus"
      ]
    },
    {
      "cell_type": "markdown",
      "metadata": {
        "id": "DXgPTjoKDO27"
      },
      "source": [
        "## Why Python?"
      ]
    },
    {
      "cell_type": "markdown",
      "metadata": {
        "id": "GgeQHBPzDO28"
      },
      "source": [
        "\n",
        "source: https://pypl.github.io/PYPL.html"
      ]
    },
    {
      "cell_type": "markdown",
      "metadata": {
        "id": "hT6BsSOZDO29"
      },
      "source": [
        "### Pros of using Python"
      ]
    },
    {
      "cell_type": "markdown",
      "metadata": {
        "id": "wo3-3r-aDO29"
      },
      "source": [
        "* **Simple syntax**: Quick and easy to learn.\n",
        "* **Beautiful**: It is designed to be optimized for readability\n",
        "* **Work less, produce more**: Good libraries of functions let you compose programs with less code.\n",
        "* **Flexible**: Many different ways to design your programs (procedural, functional, object oriented programming).\n",
        "* **Cross platform**: You can run the same code on Linux, Mac, Windows and any other OS with Python installed.\n",
        "* **Free**: (As in speech, and as in beer.)"
      ]
    },
    {
      "cell_type": "markdown",
      "metadata": {
        "id": "IQTpuRRUDO2-"
      },
      "source": [
        "### Cons of using Python"
      ]
    },
    {
      "cell_type": "markdown",
      "metadata": {
        "id": "4fO6TiZRDO2-"
      },
      "source": [
        "* **You still have to write code.** It is a general purpose programming language, not an application.\n",
        "* **RTFM**: No customer support like MATLAB (but a large community support).\n",
        "* **Slow**: but you can use a library/C/FORTRAN code for time critical stuff.\n",
        "* **Very specialized tools have no simple substitute (yet!)**: R for statistics."
      ]
    },
    {
      "cell_type": "markdown",
      "metadata": {
        "id": "AlLEbYPoDO2_"
      },
      "source": [
        "### Scientific community moving towards Python"
      ]
    },
    {
      "cell_type": "markdown",
      "metadata": {
        "id": "TMkZudfCDO2_"
      },
      "source": [
        "## Python can be used interactively or in batch mode."
      ]
    },
    {
      "cell_type": "markdown",
      "metadata": {
        "id": "p5QSK6FiDO3A"
      },
      "source": [
        "### Interactive mode:"
      ]
    },
    {
      "cell_type": "markdown",
      "metadata": {
        "id": "o1xHVHjcDO3A"
      },
      "source": [
        "Start jupyter-notebook and type the examples below."
      ]
    },
    {
      "cell_type": "code",
      "execution_count": null,
      "metadata": {
        "colab": {
          "background_save": true,
          "base_uri": "https://localhost:8080/"
        },
        "id": "_Dd1fZiRDO3B",
        "outputId": "bed1a936-fb1f-4c54-8afc-1c569fd3d8c0"
      },
      "outputs": [
        {
          "name": "stdout",
          "output_type": "stream",
          "text": [
            "Hello World\n"
          ]
        }
      ],
      "source": [
        "print ('Hello World') #we are using print as function here and hence the use of ()\n",
        "# This is how you put a comment!"
      ]
    },
    {
      "cell_type": "markdown",
      "metadata": {
        "id": "jnUn2WtgDO3D"
      },
      "source": [
        "### Batch mode:"
      ]
    },
    {
      "cell_type": "markdown",
      "metadata": {
        "id": "1AVHp7q3DO3D"
      },
      "source": [
        "1. Write the same text above in a file.\n",
        "2. Save the file as myFirstPythonFile.py .\n",
        "3. Go to terminal and type: `python3 myFirstPythonFile.py`."
      ]
    },
    {
      "cell_type": "markdown",
      "metadata": {
        "id": "U-8VYfGADO3E"
      },
      "source": [
        "## Data types in python"
      ]
    },
    {
      "cell_type": "markdown",
      "metadata": {
        "id": "orO3PNPADO3E"
      },
      "source": [
        "* int: -5,7 10, 123453456\n",
        "* float: 4.5, 0.4, -7.8\n",
        "* boolean: True, False\n",
        "* String: 'Jar', 'Binks'\n",
        "* List: [1,2,3], ['Hodgkin', '13', 3.14]\n",
        "* Tuple: (1,2,3), ('Hodgkin', '13', 3.14)\n",
        "* Dictionary: {'Countries':['India', 'China', 'Sweden', 'Themyscira'] , 'Colors':('Blue', 'Green', 'Octarine')}\n",
        "* NoneType: None\n"
      ]
    },
    {
      "cell_type": "code",
      "execution_count": null,
      "metadata": {
        "id": "WCwa2NkdDO3F"
      },
      "outputs": [],
      "source": []
    },
    {
      "cell_type": "markdown",
      "metadata": {
        "id": "73A2fYojDO3F"
      },
      "source": [
        "## Assigning variables: Think of them as boxes with labels containing values"
      ]
    },
    {
      "cell_type": "code",
      "execution_count": null,
      "metadata": {
        "id": "qESenKEWDO3F"
      },
      "outputs": [],
      "source": [
        "a = 3 # Integer\n",
        "print (a) # Parentheses for print statements"
      ]
    },
    {
      "cell_type": "code",
      "execution_count": null,
      "metadata": {
        "id": "rAQN9AjZDO3G"
      },
      "outputs": [],
      "source": [
        "greeting = 'Hiiiiiiii MCB 2023' # String\n",
        "\n",
        "a = b = greeting # Multiple variables assigned the same value!\n",
        "\n",
        "\n",
        "\n",
        "print((a, b)) # Printing multiple variables at the same time.\n",
        "\n",
        "j = 42\n",
        "print(f'The answer is {j}')"
      ]
    },
    {
      "cell_type": "markdown",
      "metadata": {
        "id": "1clYO1yNDO3H"
      },
      "source": [
        "## Arithmetic 101"
      ]
    },
    {
      "cell_type": "code",
      "execution_count": null,
      "metadata": {
        "id": "pFaxf7qtDO3H"
      },
      "outputs": [],
      "source": [
        "a = 3 # Integer\n",
        "b = 3.0 # Float\n",
        "\n",
        "print(a, b, a+b, a-b, a*b, a/b) # Floats are contagious!\n",
        "print(a // b) #modulo: discards the fractional part of the quotient\n",
        "print(a % b) #remainder"
      ]
    },
    {
      "cell_type": "markdown",
      "metadata": {
        "id": "A47OEhuiDO3I"
      },
      "source": [
        "## Now, let's start making a neuron"
      ]
    },
    {
      "cell_type": "markdown",
      "metadata": {
        "id": "noeOCsycDO3I"
      },
      "source": [
        "### Decaying membrane potential of a neuron:"
      ]
    },
    {
      "cell_type": "markdown",
      "metadata": {
        "id": "_qLcQq-GDO3I"
      },
      "source": [
        "#### ![Neuronal membrane as an RC circuit](https://upload.wikimedia.org/wikipedia/commons/thumb/1/13/NeuronResistanceCapacitanceRev.jpg/300px-NeuronResistanceCapacitanceRev.jpg \"Neuronal membrane as an RC circuit\")"
      ]
    },
    {
      "cell_type": "markdown",
      "metadata": {
        "id": "lFVXP8OIDO3J"
      },
      "source": [
        "$$\\frac{dV_m}{dt} = -\\frac{V_m}{R_m C_m}$$"
      ]
    },
    {
      "cell_type": "markdown",
      "metadata": {
        "id": "yXUfVOZiDO3J"
      },
      "source": [
        "### You can also write floats in scientific notation."
      ]
    },
    {
      "cell_type": "code",
      "execution_count": null,
      "metadata": {
        "id": "iGXPQXa7DO3J"
      },
      "outputs": [],
      "source": [
        "Cm = 1e-9 #Capacitance 1 nF\n",
        "Rm = 1e4 #Resistance 10 MOhm\n",
        "Vm = -65e-3 #Voltage -65 mV\n",
        "dt = 1e-4\n",
        "dVm = - Vm * dt / (Rm * Cm)\n",
        "print(dVm)"
      ]
    },
    {
      "cell_type": "markdown",
      "metadata": {
        "id": "nOdxehuDDO3K"
      },
      "source": [
        "## Lists and Dicts"
      ]
    },
    {
      "cell_type": "code",
      "execution_count": null,
      "metadata": {
        "id": "dxO5ugt6DO3K"
      },
      "outputs": [],
      "source": [
        "a = [1, 2, 3, 4] #this is a list of elements of the same data type\n",
        "\n",
        "print(a, len(a))\n",
        "print(a[2])\n",
        "print(\"2 in a:\", 2 in a) # in is called the membership operator\n",
        "print(\"5 in a:\", 5 in a)"
      ]
    },
    {
      "cell_type": "markdown",
      "metadata": {
        "id": "Y8UgzWGLDO3K"
      },
      "source": [
        "#### Lists of different data-types"
      ]
    },
    {
      "cell_type": "code",
      "execution_count": null,
      "metadata": {
        "id": "6NUG_2ZLDO3L"
      },
      "outputs": [],
      "source": [
        "a = 'Hello'\n",
        "b = [1, 'a', 'hello', 3.54] #elements in a list can be of different data types\n",
        "print(\"b:\", b)"
      ]
    },
    {
      "cell_type": "markdown",
      "metadata": {
        "id": "m9nHDOnUDO3L"
      },
      "source": [
        "#### Lists of lists and indexing"
      ]
    },
    {
      "cell_type": "code",
      "execution_count": null,
      "metadata": {
        "id": "toZAKidTDO3L"
      },
      "outputs": [],
      "source": [
        "c = [a, b, [5, 4, 3]] #we are now putting a list within another list\n",
        "print(\"c:\", c)\n",
        "print(\"c[2]:\", c[2])\n",
        "print(\"c[-1]:\", c[-1]) # Another way to index\n",
        "print(\"c[-1][1]:\", c[-1][1]) # Accessing elements of the list within the list."
      ]
    },
    {
      "cell_type": "markdown",
      "metadata": {
        "id": "j8KvpBP_DO3M"
      },
      "source": [
        "#### Slicing"
      ]
    },
    {
      "cell_type": "code",
      "execution_count": null,
      "metadata": {
        "id": "VQxr4e84DO3M"
      },
      "outputs": [],
      "source": [
        "print(\"c[1:]:\", c[1:])\n",
        "print(\"c[2:]:\", c[2:])\n",
        "print(\"c[-2:]:\", c[-2:])\n",
        "print(\"c[:2]:\", c[:2])"
      ]
    },
    {
      "cell_type": "markdown",
      "metadata": {
        "id": "WgcNvl2ZDO3N"
      },
      "source": [
        "#### Lists are mutable"
      ]
    },
    {
      "cell_type": "code",
      "execution_count": null,
      "metadata": {
        "id": "k_fs0HMZDO3N"
      },
      "outputs": [],
      "source": [
        "c[0] = 'MCB-Janbatch23' #replacing the c[0] element\n",
        "print(\"c[0]:\", c[0])\n",
        "print(\"c[0][1]:\", c[0][1])\n",
        "\n",
        "c.append ('x') # appending elements to an existing list\n",
        "print(\"c:\", c)\n",
        "d = c + [1, 2, 3] # concatenation of lists\n",
        "print(\"d:\", d)\n",
        "print(c*2)"
      ]
    },
    {
      "cell_type": "markdown",
      "metadata": {
        "id": "Jsf4epZYDO3O"
      },
      "source": [
        "### Dicts \\{ \\}"
      ]
    },
    {
      "cell_type": "markdown",
      "metadata": {
        "id": "4G8-4T76DO3O"
      },
      "source": [
        "#### Dictionaries are unordered key-value pairs"
      ]
    },
    {
      "cell_type": "code",
      "execution_count": null,
      "metadata": {
        "id": "_EOG1JNKDO3O"
      },
      "outputs": [],
      "source": [
        "parameters = dict() # Initializing an empty dict, also parameters = {}\n",
        "parameters['Rm'] = 1e4\n",
        "parameters = {'Rm' : Rm, 'Cm' : Cm, 'Vm': Vm} # Directly initializing a dictionary\n",
        "print(\"parameters\", parameters) # See here that it is unordered\n",
        "print(\"parameters['Rm']:\", parameters['Rm']) # Accessing elements of a dictionary by key"
      ]
    },
    {
      "cell_type": "code",
      "execution_count": null,
      "metadata": {
        "id": "IEqKI-8GDO3P"
      },
      "outputs": [],
      "source": [
        "#Uncomment and try this:\n",
        "parameters['Rm'] = 9e6"
      ]
    },
    {
      "cell_type": "code",
      "execution_count": null,
      "metadata": {
        "id": "gKWDhyuCDO3P"
      },
      "outputs": [],
      "source": [
        "print(\"all keys in the dictionary:\", list(parameters.keys())) #lists all keys in a dictionary\n",
        "print(\"all values in the dictionary:\", list(parameters.values())) #lists all values in a dictionary\n",
        "print(\"all items in the dictionary\", list(parameters.items())) #lists all key value pairs in a dictionary\n",
        "print('Rm' in parameters)\n",
        "print('rm' in parameters)"
      ]
    },
    {
      "cell_type": "markdown",
      "metadata": {
        "id": "_WHo9mQJDO3P"
      },
      "source": [
        "## Blocks of code are separated in Python by indentation"
      ]
    },
    {
      "cell_type": "markdown",
      "metadata": {
        "id": "ueeCn4NmDO3Q"
      },
      "source": [
        "* Blocks can be used to limit scope of variables.\n",
        "* Indentations can be given by spaces, or tabs, but never use them together.\n",
        "* 4 spaces recommended by [PEP8](https://www.python.org/dev/peps/pep-0008/)."
      ]
    },
    {
      "cell_type": "markdown",
      "metadata": {
        "id": "QFHHKwwIDO3Q"
      },
      "source": [
        "## Operators for comparisons $\\neq, =, \\gt, \\lt, \\leq, \\geq$"
      ]
    },
    {
      "cell_type": "code",
      "execution_count": null,
      "metadata": {
        "id": "1ItIRk9LDO3Q"
      },
      "outputs": [],
      "source": [
        "print(a == b) #numerical comparison operator"
      ]
    },
    {
      "cell_type": "code",
      "execution_count": null,
      "metadata": {
        "id": "Dj9n061sDO3Q"
      },
      "outputs": [],
      "source": [
        "not (2 > 2) #not operator"
      ]
    },
    {
      "cell_type": "code",
      "execution_count": null,
      "metadata": {
        "id": "tvz4Ety_DO3R"
      },
      "outputs": [],
      "source": [
        "a = 4\n",
        "if (a > 3) and (a > 7):\n",
        "    print(\"a\", a)\n",
        "else:\n",
        "    print(\"a\")"
      ]
    },
    {
      "cell_type": "code",
      "execution_count": null,
      "metadata": {
        "id": "qgLt1fpDDO3R"
      },
      "outputs": [],
      "source": [
        "a = 2\n",
        "if (a > 2) or (a < 2):\n",
        "    print(\"a\", a)"
      ]
    },
    {
      "cell_type": "code",
      "execution_count": null,
      "metadata": {
        "id": "s3ryNz4GDO3S"
      },
      "outputs": [],
      "source": [
        "a = 4\n",
        "if (a > 2) and not (a < 2):\n",
        "    print(\"a\", a)"
      ]
    },
    {
      "cell_type": "code",
      "execution_count": null,
      "metadata": {
        "id": "hLBNK84dDO3S"
      },
      "outputs": [],
      "source": [
        "a = 4\n",
        "if (a > 2) or not (a < 5):\n",
        "    print(\"a\", a)"
      ]
    },
    {
      "cell_type": "markdown",
      "metadata": {
        "id": "rmGbHAoYDO3S"
      },
      "source": [
        "## Conditional Statements"
      ]
    },
    {
      "cell_type": "markdown",
      "metadata": {
        "id": "FPSZYOLyDO3S"
      },
      "source": [
        "### if, elif, else"
      ]
    },
    {
      "cell_type": "code",
      "execution_count": null,
      "metadata": {
        "id": "spoZuj3HDO3T"
      },
      "outputs": [],
      "source": [
        "a, b = 2, 2 #2 gets assigned to a and 3 gets assigned to b\n",
        "if a > b:\n",
        "    print(\"a is greater than b\")\n",
        "elif b > a:\n",
        "    print(f\"{b} is greater than {a}\")\n",
        "else:\n",
        "    print(f\"{a} is equal to {b}\")"
      ]
    },
    {
      "cell_type": "code",
      "execution_count": null,
      "metadata": {
        "id": "qRhRVDo3DO3T"
      },
      "outputs": [],
      "source": [
        "boo = 'false'"
      ]
    },
    {
      "cell_type": "code",
      "execution_count": null,
      "metadata": {
        "id": "LlSSWX_0DO3T"
      },
      "outputs": [],
      "source": [
        "if(boo): print(f\"{a} is equal to {b}\")"
      ]
    },
    {
      "cell_type": "code",
      "execution_count": null,
      "metadata": {
        "colab": {
          "base_uri": "https://localhost:8080/"
        },
        "id": "5GFo2abbDO3U",
        "outputId": "ad350fb0-a8d2-48bd-e296-5dfefe291644"
      },
      "outputs": [
        {
          "name": "stdout",
          "output_type": "stream",
          "text": [
            "Everything else means boolean False!\n"
          ]
        }
      ],
      "source": [
        "a = [1, 2, 3, 4]\n",
        "b = [] # Empty list\n",
        "c = {} # Empty dict\n",
        "\n",
        "if 0: #to check for a false condition\n",
        "    print(a)\n",
        "elif None: #to check for a false condition\n",
        "    print(a)\n",
        "elif False: #to check for a false condition\n",
        "    print(a)\n",
        "elif b:\n",
        "    print(a)\n",
        "elif c:\n",
        "    print(a)   \n",
        "else:\n",
        "    print(\"Everything else means boolean False!\")"
      ]
    },
    {
      "cell_type": "markdown",
      "metadata": {
        "id": "ElQyqb5GDO3U"
      },
      "source": [
        "## Loops"
      ]
    },
    {
      "cell_type": "markdown",
      "metadata": {
        "id": "R0KgrPNrDO3U"
      },
      "source": [
        "### While loop"
      ]
    },
    {
      "cell_type": "code",
      "execution_count": null,
      "metadata": {
        "id": "4t-GpT-aDO3V"
      },
      "outputs": [],
      "source": [
        "a = 0\n",
        "while a <= 5: #while loop checks for a condition and repeats until false\n",
        "    print(a)\n",
        "    a = a + 1\n",
        "print(\"outside, a =\", a)"
      ]
    },
    {
      "cell_type": "markdown",
      "metadata": {
        "id": "o0LgWCbGDO3V"
      },
      "source": [
        "#### Find all odd numbers upto 100"
      ]
    },
    {
      "cell_type": "code",
      "execution_count": null,
      "metadata": {
        "id": "mrgNbr8PDO3V"
      },
      "outputs": [],
      "source": [
        "n = 0\n",
        "while n < 20:\n",
        "    if n % 2 == 0:\n",
        "        print(n)\n",
        "    n = n + 1"
      ]
    },
    {
      "cell_type": "markdown",
      "metadata": {
        "id": "cMpt1ZulDO3V"
      },
      "source": [
        "### Now let's put it all together."
      ]
    },
    {
      "cell_type": "markdown",
      "metadata": {
        "id": "3kndELexDO3W"
      },
      "source": [
        "Charge on the capacitor:<br><br>\n",
        "$$ Q = CV $$\n",
        "\n",
        "Differentiating both sides,<br><br>\n",
        "$$-I = C * \\frac{dV}{dt}$$\n",
        "\n",
        "Using Ohm's Law,<br><br>\n",
        "$$- \\frac{V}{R} = C \\frac{dV}{dt} $$<br>\n",
        "or,<br><br>\n",
        "$$ \\frac{dV}{dt} = - \\frac{V}{RC}$$"
      ]
    },
    {
      "cell_type": "code",
      "execution_count": null,
      "metadata": {
        "id": "vxdjp5gNDO3W"
      },
      "outputs": [],
      "source": [
        "# Compute the series of Vm values - how doe\n",
        "# dV / dt = (V(t + dt) - V(t)) / dt\n",
        "#V(t +dt) = dV/dt*dt + V(t)\n",
        "# t = 0 till t = 20 (ms)\n",
        "# dt = 0.1 ms\n",
        "# V0 = 50.0 (mV)\n",
        "# Rm = 1e4 (kOhm)\n",
        "# Cm = 1e-3 (uF)\n",
        "\n",
        "t = 0.0\n",
        "tmax = 100.0\n",
        "dt = 0.1\n",
        "V0 = 50.\n",
        "Vdot = 0.0 #Vdot = dV / dt\n",
        "V = [V0]\n",
        "T = [t]\n",
        "R = 1e4\n",
        "C = 1e-3\n",
        "\n",
        "while T[-1] < tmax:\n",
        "    #print(t,V)\n",
        "    Vdot = -V[-1] / (R * C) #V[-1] to acess the last element of the list, here, the last voltage value to append to\n",
        "    V.append(V[-1] + Vdot*dt)\n",
        "    T.append(T[-1] + dt)\n",
        "print(T)\n",
        "print(V)"
      ]
    },
    {
      "cell_type": "markdown",
      "metadata": {
        "id": "sUwHUnylDO3W"
      },
      "source": [
        "## Now we should totally plot it!"
      ]
    },
    {
      "cell_type": "markdown",
      "metadata": {
        "id": "vUC_y5NNDO3X"
      },
      "source": [
        "### Let's plot it!"
      ]
    },
    {
      "cell_type": "code",
      "execution_count": null,
      "metadata": {
        "id": "NkcgzCpNDO3X"
      },
      "outputs": [],
      "source": [
        "%matplotlib inline\n",
        "import matplotlib.pyplot as plt\n",
        "plt.plot(T, V, label='Voltage')\n",
        "plt.xlabel(\"Time (ms)\")\n",
        "plt.ylabel(\"V (mV)\")\n",
        "plt.legend()\n",
        "plt.show()"
      ]
    },
    {
      "cell_type": "markdown",
      "metadata": {
        "id": "EBhvQFlnDO3X"
      },
      "source": [
        "### For Loop"
      ]
    },
    {
      "cell_type": "code",
      "execution_count": null,
      "metadata": {
        "id": "EzY9qntADO3X"
      },
      "outputs": [],
      "source": [
        "for x in V: #for loop iterates through elements in a list - here x is first assigned 0, then 1 and then 2\n",
        "    print(round(x,2))"
      ]
    },
    {
      "cell_type": "code",
      "execution_count": null,
      "metadata": {
        "colab": {
          "base_uri": "https://localhost:8080/"
        },
        "id": "JmItIhvpDO3Y",
        "outputId": "f8be1344-7931-4d2c-b18a-34d78d434bae"
      },
      "outputs": [
        {
          "name": "stdout",
          "output_type": "stream",
          "text": [
            "1 a\n",
            "2 b\n",
            "3 c\n",
            "4 d\n"
          ]
        }
      ],
      "source": [
        "first_list = (1,2,3,4,5,6)\n",
        "second_list = (\"a\",\"b\", \"c\", \"d\")\n",
        "\n",
        "for x,y in zip(first_list,second_list): # Iterating through 2 zipped lists, if sizes are unequal; iteration length is same as smaller list.\n",
        "    print(x,y)\n",
        "\n",
        "\n",
        "\n",
        "#print(list(zip(first_list,second_list)))"
      ]
    },
    {
      "cell_type": "code",
      "execution_count": null,
      "metadata": {
        "colab": {
          "base_uri": "https://localhost:8080/"
        },
        "id": "hkdL4SscDO3Y",
        "outputId": "ee9ee7d8-1ba5-479d-a28b-f1cc3ccdafdf"
      },
      "outputs": [
        {
          "name": "stdout",
          "output_type": "stream",
          "text": [
            "0\n",
            "1\n",
            "2\n",
            "3\n",
            "4\n",
            "5\n",
            "6\n",
            "7\n",
            "8\n",
            "9\n",
            "10\n",
            "11\n",
            "12\n",
            "13\n",
            "14\n",
            "15\n",
            "16\n",
            "17\n",
            "18\n",
            "19\n"
          ]
        }
      ],
      "source": [
        "start, stop, step = 0, len(V), 3\n",
        "#arr = np.arange(start,stop,step)\n",
        "#print(arr)\n",
        "for x in range(0, 20, 1):\n",
        "    print(x)"
      ]
    },
    {
      "cell_type": "code",
      "execution_count": null,
      "metadata": {
        "id": "_gmz_pRTDO3Y"
      },
      "outputs": [],
      "source": [
        "for x in range(start, stop):\n",
        "    print(x)"
      ]
    },
    {
      "cell_type": "code",
      "execution_count": null,
      "metadata": {
        "id": "ZRd2bxZFDO3Z"
      },
      "outputs": [],
      "source": [
        "for x in range(stop):\n",
        "    print(x, V[x])"
      ]
    },
    {
      "cell_type": "markdown",
      "metadata": {
        "id": "zPBa0oL4DO3Z"
      },
      "source": [
        "### File I/O"
      ]
    },
    {
      "cell_type": "markdown",
      "metadata": {
        "id": "3bSw_VPuDO3Z"
      },
      "source": [
        "#### Let's write the above to a file and then read it back"
      ]
    },
    {
      "cell_type": "code",
      "execution_count": null,
      "metadata": {
        "id": "j4rwR6EWDO3Z"
      },
      "outputs": [],
      "source": [
        "fp = open('voltageTrace.txt','w')\n",
        "for volt,t in zip(V,T):\n",
        "    fp.write(f\"{t} {volt} \\n\")\n",
        "fp.close()"
      ]
    },
    {
      "cell_type": "code",
      "execution_count": null,
      "metadata": {
        "id": "J-FxUvvJDO3a"
      },
      "outputs": [],
      "source": [
        "fp = open('voltageTrace.txt','r')\n",
        "k = fp.read().splitlines()\n",
        "#print(k)\n",
        "for i in k:\n",
        "    tv = i.split(' ')\n",
        "    print('element1',tv[0],'element2', tv[1])"
      ]
    },
    {
      "cell_type": "markdown",
      "metadata": {
        "id": "Alxqa9EyDO3a"
      },
      "source": [
        "### Bonus on slicing in Python"
      ]
    },
    {
      "cell_type": "code",
      "execution_count": null,
      "metadata": {
        "id": "-UG6SGH6DO3a"
      },
      "outputs": [],
      "source": [
        "start, stop,steps = 100,1000,10\n",
        "#print(V[start:stop:step])\n",
        "\n",
        "#print(V[start:stop:-1]) #Quick way to reverse a list\n",
        "#print(V[::-1]) #Quick way to reverse a list\n",
        "\n",
        "#x = list(range(1,100,2)) # Quick way to get odd numbers\n",
        "#print(x)"
      ]
    },
    {
      "cell_type": "markdown",
      "metadata": {
        "id": "UBoV9MajDO3b"
      },
      "source": [
        "or"
      ]
    },
    {
      "cell_type": "code",
      "execution_count": null,
      "metadata": {
        "id": "8v10842iDO3b",
        "scrolled": true
      },
      "outputs": [],
      "source": [
        "x = list(range(100))\n",
        "print(x)\n",
        "print(x[1::2])"
      ]
    },
    {
      "cell_type": "markdown",
      "metadata": {
        "id": "zAs5qoP4DO3b"
      },
      "source": [
        "## Control Flow"
      ]
    },
    {
      "cell_type": "code",
      "execution_count": null,
      "metadata": {
        "id": "dQ6GUbVuDO3b"
      },
      "outputs": [],
      "source": [
        "i = 0\n",
        "while(i>=0):\n",
        "    if i>=50:\n",
        "        break # Breaks out the current loop\n",
        "    i = i+1\n",
        "print(i)"
      ]
    },
    {
      "cell_type": "code",
      "execution_count": null,
      "metadata": {
        "id": "BKat076KDO3c"
      },
      "outputs": [],
      "source": [
        "random_list = [16, 56, 53, 53, 38, 72,  5, 56, 31, 18]\n",
        "for num in random_list:\n",
        "    if not num % 2 or not num % 3 or not num % 5:\n",
        "        continue # Continue ends the current iteration\n",
        "    else:\n",
        "        print(num)\n",
        "        "
      ]
    },
    {
      "cell_type": "markdown",
      "metadata": {
        "id": "ZFSteQD2DO3c"
      },
      "source": [
        "## Functions"
      ]
    },
    {
      "cell_type": "markdown",
      "metadata": {
        "id": "8wPUWDp5DO3c"
      },
      "source": [
        "### Functions are blocks of organized code for a specific action"
      ]
    },
    {
      "cell_type": "code",
      "execution_count": null,
      "metadata": {
        "id": "lHRZ5DM9DO3d"
      },
      "outputs": [],
      "source": [
        "def add(a, b): # A function to add 2 numbers\n",
        "    \"\"\"Add two arguments.\n",
        "    Returns: sum of ‘a‘ and ‘b‘\"\"\" # Docstring for the function specifies what it does, and whatever else that may be important.\n",
        "    print ('a=', a, 'b=', b)\n",
        "    return a + b"
      ]
    },
    {
      "cell_type": "markdown",
      "metadata": {
        "id": "rXfN9mS_DO3d"
      },
      "source": [
        "#### Try the following in your console"
      ]
    },
    {
      "cell_type": "code",
      "execution_count": null,
      "metadata": {
        "id": "66lDPTu4DO3d"
      },
      "outputs": [],
      "source": [
        "print(add('hello', 'MCB 23'))\n",
        "print(add(2, 1))\n",
        "\n",
        "help(add)"
      ]
    },
    {
      "cell_type": "markdown",
      "metadata": {
        "id": "JfZKsO3XDO3e"
      },
      "source": [
        "### Take the membrane RC circuit example, and define a function for calculating $\\frac{dV}{dt}$. \n",
        "* Can you use a function to calculate the Vm."
      ]
    },
    {
      "cell_type": "markdown",
      "metadata": {
        "id": "I89bwNB6DO3e"
      },
      "source": [
        "#### You can give default values for variables of a function at the time of definition."
      ]
    },
    {
      "cell_type": "code",
      "execution_count": null,
      "metadata": {
        "id": "mYd6SaZ6DO3e"
      },
      "outputs": [],
      "source": [
        "def dvdt(Vm, Cm=1e-3, Rm=1e4):\n",
        "    print ('Vm =', Vm, 'Rm =', Rm, 'Cm =', Cm)\n",
        "    return -Vm / (Rm * Cm)\n",
        "\n",
        "#dvdt(50.0)\n",
        "dvdt(50.0, 1e5)"
      ]
    },
    {
      "cell_type": "markdown",
      "metadata": {
        "id": "s6lzu_IzDO3e"
      },
      "source": [
        "Nernst Equation: $E_{ion} = \\frac{RT}{zF}ln(\\frac{[ion_{outside}]}{[ion_{inside}]})$ "
      ]
    },
    {
      "cell_type": "markdown",
      "metadata": {
        "id": "gc9JFYqcDO3f"
      },
      "source": [
        "Implement a function that returns the reversal potential of an ion"
      ]
    },
    {
      "cell_type": "code",
      "execution_count": null,
      "metadata": {
        "id": "8cGjjMwPDO3f"
      },
      "outputs": [],
      "source": [
        "import numpy as np\n",
        "def nernst(z,conc_in,conc_out,temp=279.3) :\n",
        "    E = 8.314*temp*np.log(conc_out/conc_in)/(z*96480)\n",
        "    return E*1000 #convert to mV\n",
        "print(nernst(1,0.0001,10, 200), 'mV')\n",
        "print(nernst(1,0.0001,10, 100))"
      ]
    },
    {
      "cell_type": "markdown",
      "metadata": {
        "id": "JNIAZbMsDO3f"
      },
      "source": [
        "## Classes"
      ]
    },
    {
      "cell_type": "markdown",
      "metadata": {
        "id": "TKvkL4ZaDO3f"
      },
      "source": [
        "### A class is used for defining fancy data types. \n",
        "* Data with structure (fields)\n",
        "* Functions specific to this data type (methods)"
      ]
    },
    {
      "cell_type": "code",
      "execution_count": null,
      "metadata": {
        "id": "xGDc73jrDO3g"
      },
      "outputs": [],
      "source": [
        "class PassiveComp(object):\n",
        "    \"\"\"Class implementing passive compartment.\"\"\"\n",
        "    \n",
        "    def __init__(self, Vm=-65.0, Rm=1e4, Cm=1e-3):\n",
        "        self.Vm = Vm\n",
        "        self.Rm = Rm\n",
        "        self.Cm = Cm\n",
        "        self.currentT = 0.0\n",
        "        \n",
        "    def update_vm(self, simt, dt=1e-3):\n",
        "        \"\"\"Calculate Vm at time t using time step dt\"\"\"\n",
        "\n",
        "        t = 0.\n",
        "        while t < simt:\n",
        "            Vdot = -(self.Vm / (self.Rm * self.Cm) )\n",
        "            self.Vm = self.Vm + (Vdot * dt)\n",
        "            t = t + dt\n",
        "        self.currentT += t"
      ]
    },
    {
      "cell_type": "markdown",
      "metadata": {
        "id": "ht7Xd1eZDO3g"
      },
      "source": [
        "### Use your class to compute $V_m$ at specified time"
      ]
    },
    {
      "cell_type": "code",
      "execution_count": null,
      "metadata": {
        "id": "xls_e3-jDO3g"
      },
      "outputs": [],
      "source": [
        "\n",
        "mycomp = PassiveComp(50.0)\n",
        "mycomp.update_vm(10.0, 0.1)\n",
        "print (mycomp.Vm)"
      ]
    },
    {
      "cell_type": "markdown",
      "metadata": {
        "id": "5j1mr6oWDO3h"
      },
      "source": [
        "## Modules and imports\n",
        "* Reusable code can be organized into modules.\n",
        "* Many builtin and third-party modules freely available.\n",
        "* You've already seen numpy and matplotlib in action"
      ]
    },
    {
      "cell_type": "code",
      "execution_count": null,
      "metadata": {
        "id": "ZGrBavfeDO3h"
      },
      "outputs": [],
      "source": [
        "#import this"
      ]
    },
    {
      "cell_type": "markdown",
      "metadata": {
        "id": "fmIm222MDO3h"
      },
      "source": [
        "### Numpy:\n",
        "\n",
        "* Core of numerical computing in python\n",
        "* Provides efficient arrays and matrix operations"
      ]
    },
    {
      "cell_type": "code",
      "execution_count": null,
      "metadata": {
        "id": "YgsVlkHADO3h"
      },
      "outputs": [],
      "source": [
        "#### Try this\n",
        "import numpy as np\n",
        "a = np.array([1, 2, 3.0])\n",
        "b = np.r_[1, 2, 3.0] # shorthand\n",
        "# [a1,b1,c1].[a2,b2,c2]  = a1a2+b1b2+c1c2\n",
        "# [a1,b1,c1]x[a2,b2,c2] = [b1c2-c1b2, -1*(a1c2-c1a2), a1b2-b1a2]\n",
        "print(a * b)\n",
        "print (np.dot(a, b))\n",
        "print (np.cross(a,b))"
      ]
    },
    {
      "cell_type": "markdown",
      "metadata": {
        "id": "UeY3_jfKDO3i"
      },
      "source": [
        "#### Counterpart of range is arange(start, stop, step)."
      ]
    },
    {
      "cell_type": "code",
      "execution_count": null,
      "metadata": {
        "id": "WlcNCKLHDO3i"
      },
      "outputs": [],
      "source": [
        "v = np.arange(-1, 1, 0.1)\n",
        "print(v)"
      ]
    },
    {
      "cell_type": "markdown",
      "metadata": {
        "id": "Tlsjja-rDO3i"
      },
      "source": [
        "#### To split a range into N points"
      ]
    },
    {
      "cell_type": "code",
      "execution_count": null,
      "metadata": {
        "id": "Rl3RCWfQDO3i"
      },
      "outputs": [],
      "source": [
        "# Make another array with same length as v\n",
        "w = np.linspace(-1, 1, len(v))\n",
        "print (w)"
      ]
    },
    {
      "cell_type": "markdown",
      "metadata": {
        "id": "3ptzeJ_vDO3k"
      },
      "source": [
        "#### Generating random numbers"
      ]
    },
    {
      "cell_type": "code",
      "execution_count": null,
      "metadata": {
        "id": "ayioTI8EDO3k"
      },
      "outputs": [],
      "source": [
        "a = np.random.normal(size=(10,10))\n",
        "print(a)"
      ]
    },
    {
      "cell_type": "code",
      "execution_count": null,
      "metadata": {
        "id": "1c7LBtBjDO3j"
      },
      "outputs": [],
      "source": [
        "# Create a 10x3 array filled with zero\n",
        "z = np.zeros((10, 3))\n",
        "# Create a 5x10 array filled with one\n",
        "x = np.ones((5, 10))*3\n",
        "#print(z)\n",
        "#print(x)\n",
        "\n",
        "\n",
        "y = np.ones((5, 10))\n",
        "print(y)\n"
      ]
    },
    {
      "cell_type": "markdown",
      "metadata": {
        "id": "zwFbelE1DO3j"
      },
      "source": [
        "Can you create an array filled with $\\pi$?"
      ]
    },
    {
      "cell_type": "code",
      "execution_count": null,
      "metadata": {
        "id": "rcqq9eKvWo_Q"
      },
      "outputs": [],
      "source": [
        "#shortcut\n",
        "pi_value = np.pi\n",
        "z = np.ones((2,2))*pi_value\n",
        "print(z)"
      ]
    },
    {
      "cell_type": "code",
      "execution_count": null,
      "metadata": {
        "id": "eeTEq2B3VNri"
      },
      "outputs": [],
      "source": [
        "#monte-carlo\n",
        "counter = 0\n",
        "iter = 10000\n",
        "for i in range(iter) :\n",
        "  x = np.random.rand()\n",
        "  y = np.random.rand()\n",
        "  z = np.sqrt(x**2 + y**2)\n",
        "  if z < 1 :\n",
        "    counter = counter + 1\n",
        "\n",
        "\n",
        "print(counter, \"value of pi =\" , (4*counter)/iter)\n",
        "\n",
        "\n",
        "\n",
        "pi_value = 4*counter/iter\n",
        "\n",
        "z = np.ones((2,2))*pi_value\n",
        "print(z)"
      ]
    },
    {
      "cell_type": "markdown",
      "metadata": {
        "id": "qVqODUCVDO3k"
      },
      "source": [
        "#### Indexing in numpy arrays"
      ]
    },
    {
      "cell_type": "code",
      "execution_count": null,
      "metadata": {
        "colab": {
          "base_uri": "https://localhost:8080/"
        },
        "id": "ZBAqiL3YDO3k",
        "outputId": "3d2584e3-9906-4181-d31a-abd67c0af2a6"
      },
      "outputs": [
        {
          "name": "stdout",
          "output_type": "stream",
          "text": [
            "[[0. 0. 1. 0. 0.]\n",
            " [0. 0. 1. 0. 0.]\n",
            " [2. 2. 2. 2. 2.]\n",
            " [0. 0. 1. 0. 0.]\n",
            " [0. 0. 1. 0. 0.]]\n"
          ]
        }
      ],
      "source": [
        "import numpy as np\n",
        "a = np.zeros((5, 5))\n",
        "a[:,2] = 1.0\n",
        "a[2,:] = 2.0\n",
        "print(a)"
      ]
    },
    {
      "cell_type": "code",
      "execution_count": null,
      "metadata": {
        "colab": {
          "base_uri": "https://localhost:8080/"
        },
        "id": "a-BykDxyDO3l",
        "outputId": "ee10f453-9858-4192-e22d-057bc0588c7d"
      },
      "outputs": [
        {
          "name": "stdout",
          "output_type": "stream",
          "text": [
            "[[2. 2. 2. 2. 2.]\n",
            " [2. 2. 2. 2. 2.]\n",
            " [2. 2. 2. 2. 2.]\n",
            " [2. 2. 2. 2. 2.]\n",
            " [2. 2. 2. 2. 2.]]\n"
          ]
        }
      ],
      "source": [
        "a[a < 0.2] = 0.0\n",
        "a[(a > 0.3) | (a < 0.7)] = 2\n",
        "print(a)"
      ]
    },
    {
      "cell_type": "markdown",
      "metadata": {
        "id": "e888GsPLDO3l"
      },
      "source": [
        "#### More at https://docs.scipy.org/doc/numpy-dev/user/quickstart.html"
      ]
    },
    {
      "cell_type": "markdown",
      "metadata": {
        "id": "BR_52QALDO3l"
      },
      "source": [
        "#### Other cool modules to check out:\n",
        "* scipy: Scientific Python library based on numpy.\n",
        "* scikits.learn: Machine learning.\n",
        "* seaborn: Fancy plotting library based on matplotlib.\n",
        "* pandas: Statistics, based on numpy"
      ]
    },
    {
      "cell_type": "markdown",
      "metadata": {
        "id": "8N7OSkRcDO3m"
      },
      "source": [
        "#### Finishing with a raster plot"
      ]
    },
    {
      "cell_type": "code",
      "execution_count": null,
      "metadata": {
        "colab": {
          "base_uri": "https://localhost:8080/",
          "height": 265
        },
        "id": "YWaxCxN5DO3m",
        "outputId": "bbb018fb-6391-4170-9e18-c8d7dd86205d"
      },
      "outputs": [
        {
          "data": {
            "image/png": "[encoded data removed]",
            "text/plain": [
              "<Figure size 432x288 with 1 Axes>"
            ]
          },
          "metadata": {},
          "output_type": "display_data"
        }
      ],
      "source": [
        "import numpy as np\n",
        "from matplotlib import pyplot as plt\n",
        "\n",
        "spike_times = np.random.rand(100, 5)\n",
        "#print(spike_times)\n",
        "for ii, spike_train in enumerate(spike_times):\n",
        "    y = np.ones(spike_train.shape[0])*ii\n",
        "    plt.plot(spike_train, y, 'k|')\n",
        "plt.savefig('rasterplot.png')"
      ]
    },
    {
      "cell_type": "markdown",
      "metadata": {
        "id": "XuwtgJb-G36S"
      },
      "source": [
        "List vs Tuple \n"
      ]
    },
    {
      "cell_type": "code",
      "execution_count": null,
      "metadata": {
        "id": "jYWhu8T1E4DE"
      },
      "outputs": [],
      "source": [
        "#credits : https://www.geeksforgeeks.org/python-difference-between-list-and-tuple/"
      ]
    },
    {
      "cell_type": "markdown",
      "metadata": {
        "id": "AcNQNTlFE5Jy"
      },
      "source": [
        "![image.png](data:image/png;base64,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)"
      ]
    },
    {
      "cell_type": "code",
      "execution_count": null,
      "metadata": {
        "colab": {
          "base_uri": "https://localhost:8080/"
        },
        "id": "dfrFd1sIDO3m",
        "outputId": "841a3ccf-3d98-4df4-87a0-b8e6c8b027c5"
      },
      "outputs": [
        {
          "name": "stdout",
          "output_type": "stream",
          "text": [
            "Original list  [1, 2, 4, 4, 3, 3, 3, 6, 5]\n",
            "Example to show mutability  [1, 2, 4, 77, 3, 3, 3, 6, 5]\n"
          ]
        }
      ],
      "source": [
        "#ADVANCED \n",
        "#tuple vs list\n",
        "\n",
        "# Creating a List with\n",
        "# the use of Numbers\n",
        "# code to test that tuples are mutable\n",
        "List = [1, 2, 4, 4, 3, 3, 3, 6, 5]\n",
        "print(\"Original list \", List)\n",
        "\n",
        "List[3] = 77\n",
        "print(\"Example to show mutability \", List)\n"
      ]
    },
    {
      "cell_type": "code",
      "execution_count": null,
      "metadata": {
        "id": "VRa7_OLmFBl4"
      },
      "outputs": [],
      "source": [
        "# code to test that tuples are immutable\n",
        "\n",
        "tuple1 = (0, 1, 2, 3)\n",
        "tuple1[0] = 4\n",
        "\n"
      ]
    },
    {
      "cell_type": "code",
      "execution_count": null,
      "metadata": {
        "id": "EHKaHkJ2FUMS"
      },
      "outputs": [],
      "source": [
        "import sys\n",
        "a_list = []\n",
        "a_tuple = ()\n",
        "a_list = [\"Geeks\", \"For\", \"Geeks\"]\n",
        "a_tuple = (\"Geeks\", \"For\", \"Geeks\")\n",
        "print(sys.getsizeof(a_list))\n",
        "print(sys.getsizeof(a_tuple))\n"
      ]
    },
    {
      "cell_type": "code",
      "execution_count": null,
      "metadata": {
        "id": "0DzGza_1FYgM"
      },
      "outputs": [],
      "source": [
        "import sys, platform\n",
        "import time\n",
        "\n",
        "l=list(range(100000001))\n",
        "t=tuple(range(100000001))\n",
        "\n",
        "start = time.time_ns()\n",
        "for i in range(len(t)):\n",
        "\ta = t[i]\n",
        "end = time.time_ns()\n",
        "print(\"Total lookup time for Tuple: \", end - start)\n",
        "\n",
        "start = time.time_ns()\n",
        "for i in range(len(l)):\n",
        "\ta = l[i]\n",
        "end = time.time_ns()\n",
        "print(\"Total lookup time for LIST: \", end - start)\n"
      ]
    }
  ],
  "metadata": {
    "colab": {
      "provenance": []
    },
    "kernelspec": {
      "display_name": "Python 3 (ipykernel)",
      "language": "python",
      "name": "python3"
    },
    "language_info": {
      "codemirror_mode": {
        "name": "ipython",
        "version": 3
      },
      "file_extension": ".py",
      "mimetype": "text/x-python",
      "name": "python",
      "nbconvert_exporter": "python",
      "pygments_lexer": "ipython3",
      "version": "3.8.10"
    },
    "varInspector": {
      "cols": {
        "lenName": 16,
        "lenType": 16,
        "lenVar": 40
      },
      "kernels_config": {
        "python": {
          "delete_cmd_postfix": "",
          "delete_cmd_prefix": "del ",
          "library": "var_list.py",
          "varRefreshCmd": "print(var_dic_list())"
        },
        "r": {
          "delete_cmd_postfix": ") ",
          "delete_cmd_prefix": "rm(",
          "library": "var_list.r",
          "varRefreshCmd": "cat(var_dic_list()) "
        }
      },
      "types_to_exclude": [
        "module",
        "function",
        "builtin_function_or_method",
        "instance",
        "_Feature"
      ],
      "window_display": false
    }
  },
  "nbformat": 4,
  "nbformat_minor": 0
}